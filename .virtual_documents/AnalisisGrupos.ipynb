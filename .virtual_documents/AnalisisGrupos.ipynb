from collections import defaultdict
import gc
import matplotlib.pyplot as plt
import numpy as np
import pandas as pd
import seaborn as sns
import scipy.stats as st



gc.collect()


pd.set_option('display.max_columns', None)


base_path = "./ConjuntosDatos/"
endutih_path = base_path + "ENDUTIH2020/conjuntos_de_datos/"


endutih_vivhogar = pd.read_csv(endutih_path+"viv_hog_agrupados.csv")
endutih_res = pd.read_csv(endutih_path+"residente_agrupados.csv")
endutih_usr = pd.read_csv(endutih_path+"usuario_agrupados.csv", low_memory=False)
endutih_usr2 = pd.read_csv(endutih_path+"usuario2_agrupados.csv", low_memory=False)


estados = pd.read_csv(base_path+"CodigoEdos.csv")
estados


dist_grupos = endutih_vivhogar[["ESTRATO","Grupo", "FAC_HOG"]].groupby(["ESTRATO","Grupo"]).agg("sum")
dist_grupos


(dist_grupos/ dist_grupos.FAC_HOG.sum()*100)


grupo_estados = pd.pivot_table(data=endutih_vivhogar, columns="ENT", values= "FAC_HOG", index=["ESTRATO", "Grupo"], aggfunc='sum', fill_value=0)
grupo_estados.columns = estados.ENT
grupo_estados


grupo_estados_rel_grupo = grupo_estados.apply(lambda x: x.div(x.sum()), axis=1)*100
grupo_estados_rel_grupo.style.format(precision=4)


grupo_estados_rel_ent = grupo_estados.apply(lambda x: x.div(x.sum()), axis=0)*100
grupo_estados_rel_ent.style.format(precision=4)


np.amax(grupo_estados_rel_ent)


grupo_internet = pd.pivot_table(data=endutih_vivhogar, columns="P4_4", values= "FAC_HOG", index=["ESTRATO", "Grupo"], aggfunc='sum', fill_value=0)
grupo_internet.columns = pd.Series(["Sí", "No"], name="Internet en el hogar")
grupo_internet


grupo_internet_rel_grupo = grupo_internet.apply(lambda x: x.div(x.sum()), axis=1)*100
grupo_internet_rel_grupo.style.format(precision=4)


grupo_internet_rel_int = grupo_internet.apply(lambda x: x.div(x.sum()), axis=0)*100
grupo_internet_rel_int.style.format(precision=4)


grupo_internet_tipo = pd.pivot_table(data=endutih_vivhogar.loc[endutih_vivhogar.P4_4==1], columns="P4_5", values= "FAC_HOG", index=["ESTRATO", "Grupo"], aggfunc='sum', fill_value=0)
grupo_internet_tipo.columns = pd.Series(["Fija", "Móvil", "Ambas", "No sabe"], name="Tipo de Internet en el hogar")
grupo_internet_tipo


grupo_internet_tipo_rel_grupo = grupo_internet_tipo.apply(lambda x: x.div(x.sum()), axis=1)*100
grupo_internet_tipo_rel_grupo.style.format(precision=4)





grupo_internet_tipo_rel_tipo = grupo_internet_tipo.apply(lambda x: x.div(x.sum()), axis=0)*100
grupo_internet_tipo_rel_tipo.style.format(precision=4)


grupo_electricidad = pd.pivot_table(data=endutih_vivhogar, columns="P1_4", values= "FAC_HOG", index=["ESTRATO", "Grupo"], aggfunc='sum', fill_value=0)
grupo_electricidad.columns = pd.Series(["Sí", "No"], name="Electricidad")
grupo_electricidad


grupo_electricidad_rel_grupo = grupo_electricidad.apply(lambda x: x.div(x.sum()), axis=1)*100
grupo_electricidad_rel_grupo.style.format(precision=4)


endutih_vivhogar["COMPU"] = (endutih_vivhogar[["P4_2_1", "P4_2_2", "P4_2_3"]]==1).any(axis=1)


grupo_compu = pd.pivot_table(data=endutih_vivhogar, columns="COMPU", values= "FAC_HOG", index=["ESTRATO", "Grupo"], aggfunc='sum', fill_value=0)
grupo_compu.columns = pd.Series(["No", "Sí"], name="Computadora en el hogar")
grupo_compu


grupo_compu_rel_grupo = grupo_compu.apply(lambda x: x.div(x.sum()), axis=1)*100
grupo_compu_rel_grupo.style.format(precision=4)


grupo_compu_tipo = endutih_vivhogar[(endutih_vivhogar.COMPU==True)&(endutih_vivhogar.P4_2_1==1)][["ESTRATO", "Grupo", "FAC_HOG"]].groupby(["ESTRATO", "Grupo"]).agg("sum")
grupo_compu_tipo.columns = ["Ordenador"]
grupo_compu_tipo


grupo_compu_tipo["Laptop"] = endutih_vivhogar[(endutih_vivhogar.COMPU==True)&(endutih_vivhogar.P4_2_2==1)][["ESTRATO", "Grupo", "FAC_HOG"]].groupby(["ESTRATO", "Grupo"]).agg("sum")
grupo_compu_tipo["Tablet"] = endutih_vivhogar[(endutih_vivhogar.COMPU==True)&(endutih_vivhogar.P4_2_3==1)][["ESTRATO", "Grupo", "FAC_HOG"]].groupby(["ESTRATO", "Grupo"]).agg("sum")
grupo_compu_tipo


grupo_compu_tipo_rel_grupo = grupo_compu_tipo/np.array(grupo_compu["Sí"]).repeat(3).reshape(15,3)
grupo_compu_tipo_rel_grupo


integrantes = endutih_res[["ESTRATO", "Grupo", "UPM", "VIV_SEL", "HOGAR", "FAC_HOGAR"]].groupby(["ESTRATO", "Grupo", "UPM", "VIV_SEL", "HOGAR"]).agg(["count"])
integrantes.columns = ["Total"]


endutih_vivhogar["Integrantes_total"] = np.array(integrantes["Total"])*endutih_vivhogar["FAC_HOG"]


grupo_integrantes = endutih_vivhogar[["ESTRATO", "Grupo", "Integrantes_total"]].groupby(["ESTRATO", "Grupo"]).agg("sum")
grupo_integrantes = grupo_integrantes.div(dist_grupos.FAC_HOG, axis=0)
grupo_integrantes


grupo_tel = pd.pivot_table(data=endutih_vivhogar, columns="P5_5", values= "FAC_HOG", index=["ESTRATO", "Grupo"], aggfunc='sum', fill_value=0)
grupo_tel.columns = pd.Series(["Sí", "No"], name="Línea telefónica en el hogar")
grupo_tel


grupo_tel_rel_grupo = grupo_tel.apply(lambda x: x.div(x.sum()), axis=1)*100
grupo_tel_rel_grupo.style.format(precision=4)


grupo_trabajo = pd.pivot_table(data=endutih_res, columns="P3_10", values= "FAC_HOGAR", index=["ESTRATO", "Grupo"], aggfunc='sum', fill_value=0)
grupo_trabajo.columns = pd.Series(["Trabajó","No fue al trabajo", "Buscó trabajo", "Está jubilado", "Se dedicó a estudiar", "Quehaceres del hogar", "Limitación para trabajar", "No trabajó"], name="Actividad laboral")
grupo_trabajo


grupo_trabajo_rel_grupo = grupo_trabajo.apply(lambda x: x.div(x.sum()), axis=1)*100
grupo_trabajo_rel_grupo.style.format(precision=4)


grupo_edu = pd.pivot_table(data=endutih_res, columns=["NIVEL"], values= "FAC_HOGAR", index=["ESTRATO", "Grupo"], aggfunc='sum', fill_value=0)
grupo_edu.columns = pd.Series(["Ninguno", "Preescolar", "Primaria", "Secundaria","Normal básica", "Estudio técnico", "Preparatoria", "Estudio técnico superior", "Licenciatura o ingeniería", "Especialidad", "Maestría", "Doctorado", "No sabe"], name="Nivel Educativo")
grupo_edu


grupo_edu_rel_grupo = grupo_edu.apply(lambda x: x.div(x.sum()), axis=1)*100
grupo_edu_rel_grupo.style.format(precision=4)


grupo_cel = pd.pivot_table(data=endutih_vivhogar, columns="P4_1_6", values= "FAC_HOG", index=["ESTRATO", "Grupo"], aggfunc='sum', fill_value=0)
grupo_cel.columns = pd.Series(["Sí", "No"], name="Celular en el hogar")
grupo_cel


grupo_cel_rel_grupo = grupo_cel.apply(lambda x: x.div(x.sum()), axis=1)*100
grupo_cel_rel_grupo.style.format(precision=4)


endutih_vivhogar["Movil"] = endutih_vivhogar["FAC_HOG"]*endutih_vivhogar["P4_1_6_1"]
endutih_vivhogar["Smartphone"] = endutih_vivhogar["FAC_HOG"]*endutih_vivhogar["P4_1_6_2"]


grupo_cel_tipo = endutih_vivhogar[(endutih_vivhogar.P4_1_6==1)][["ESTRATO", "Grupo", "FAC_HOG",]].groupby(["ESTRATO", "Grupo"]).agg("sum")
grupo_cel_tipo.columns = ["Total"]
grupo_cel_tipo["Móvil"]= endutih_vivhogar[(endutih_vivhogar.P4_1_6==1)&(endutih_vivhogar.P4_1_6_1>0)][["ESTRATO", "Grupo", "Movil",]].groupby(["ESTRATO", "Grupo"]).agg("sum")
grupo_cel_tipo["Smartphone"] = endutih_vivhogar[(endutih_vivhogar.P4_1_6==1)&(endutih_vivhogar.P4_1_6_2>0)][["ESTRATO", "Grupo", "Smartphone"]].groupby(["ESTRATO", "Grupo"]).agg("sum")
grupo_cel_tipo


grupo_cel_tipo_promedio = grupo_cel_tipo[["Móvil", "Smartphone"]].div(grupo_cel_tipo.Total, axis=0)
grupo_cel_tipo_promedio


grupo_sexo = pd.pivot_table(data=endutih_res, index=["ESTRATO","Grupo"], columns="SEXO", values="FAC_HOGAR", aggfunc="sum")
grupo_sexo.columns = pd.Series(["Hombre","Mujer"], name="SEXO")
grupo_sexo


grupo_sexo_rel_grupo = grupo_sexo.apply(lambda x: x.div(x.sum()), axis=1)*100
grupo_sexo_rel_grupo


grupo11_vivhogar = endutih_vivhogar.loc[endutih_vivhogar.Grupo==11]
grupo11_res = endutih_res.loc[endutih_res.Grupo==11]
grupo11_usr = endutih_usr.loc[endutih_usr.Grupo==11]
grupo11_usr2 = endutih_usr2.loc[endutih_usr2.Grupo==11]


sit_trabajo = ["Trabajó","No fue al trabajo", "Buscó trabajo", "Está jubilado", "Se dedicó a estudiar", "Quehaceres del hogar", "Limitación para trabajar", "No trabajó"]
sexos = ["Hombre", "Mujer"]
combinaciones = [(situacion,sexo) for situacion in sit_trabajo for sexo in sexos]


trabajo_sexo_grupo11 = pd.pivot_table(data=grupo11_res, columns="SEXO", index="P3_10", values="FAC_HOGAR", aggfunc="sum")
trabajo_sexo_grupo11.index = pd.Series(sit_trabajo, name="Actividad laboral")
trabajo_sexo_grupo11.columns = pd.Series(sexos, name="SEXO")
trabajo_sexo_grupo11


trabajo_sexo_grupo11_rel_grupo = trabajo_sexo_grupo11.apply(lambda x: x.div(x.sum()), axis=1)*100
trabajo_sexo_grupo11_rel_grupo


trabajo_sexo_grupo11_rel_sexo = trabajo_sexo_grupo11.apply(lambda x: x.div(x.sum()), axis=0)*100
trabajo_sexo_grupo11_rel_sexo


trabajo_sexo = pd.pivot_table(data=endutih_res, columns="SEXO", index="P3_10", values="FAC_HOGAR", aggfunc="sum")
trabajo_sexo.index = pd.Series(sit_trabajo, name="Actividad laboral")
trabajo_sexo.columns = pd.Series(sexos, name="SEXO")
trabajo_sexo


trabajo_sexo_rel_trabajo = trabajo_sexo.apply(lambda x: x.div(x.sum()), axis=1)*100
trabajo_sexo_rel_trabajo


trabajo_sexo_rel_sexo = trabajo_sexo.apply(lambda x: x.div(x.sum()), axis=0)*100
trabajo_sexo_rel_sexo































































